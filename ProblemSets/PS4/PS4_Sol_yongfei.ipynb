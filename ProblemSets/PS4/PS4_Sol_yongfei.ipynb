{
 "cells": [
  {
   "cell_type": "markdown",
   "metadata": {},
   "source": [
    "# Problem Set 4\n",
    "## MACS 30250  Dr. Evans\n",
    "### Yongfei Lu\n",
    "\n",
    "## Exercise 2.1"
   ]
  },
  {
   "cell_type": "code",
   "execution_count": 14,
   "metadata": {},
   "outputs": [],
   "source": [
    "# import packages\n",
    "import numpy as np\n",
    "import pandas as pd\n",
    "import scipy.optimize as opt\n",
    "from matplotlib import pyplot as plt\n",
    "import time"
   ]
  },
  {
   "cell_type": "code",
   "execution_count": 57,
   "metadata": {},
   "outputs": [],
   "source": [
    "# load the parameters from 2.6\n",
    "\n",
    "A = 1 \n",
    "alpha = 0.35 \n",
    "beta = 0.442 \n",
    "delta = 0.6415 \n",
    "sigma = 3 \n",
    "nvec = np.array([1.0, 1.0, 0.2])\n",
    "f_params = (nvec, A, alpha, delta)"
   ]
  },
  {
   "cell_type": "code",
   "execution_count": 71,
   "metadata": {},
   "outputs": [],
   "source": [
    "# define some ausiliary functions\n",
    "get_r = lambda K, L, alpha, delta, A : A * alpha * ((L / K) ** (1 - alpha)) - delta\n",
    "get_w = lambda K, L, alpha, A: A * (1 - alpha) * ((K / L) ** alpha)\n",
    "get_K = lambda bvec: np.sum(bvec)\n",
    "get_L = lambda nvec: np.sum(nvec)\n",
    "get_Y = lambda K, L, alpha, A: A * (K ** alpha) * (L ** (1-alpha))\n"
   ]
  },
  {
   "cell_type": "code",
   "execution_count": 72,
   "metadata": {},
   "outputs": [],
   "source": [
    "# define feasible function\n",
    "\n",
    "def feasible(f_params, bvec_guess):\n",
    "    \n",
    "        nvec, A, alpha, delta = f_params\n",
    "        b2, b3 = bvec_guess\n",
    "        \n",
    "        K = get_K(bvec_guess)\n",
    "        L = get_L(nvec)\n",
    "        w = get_w(K, L, alpha, A)\n",
    "        r = get_r(K, L, alpha, delta, A)\n",
    "        c1 = nvec[0] * w - bvec_guess[0]\n",
    "        c2 = nvec[1] * w + (1 + r) * bvec_guess[0] - bvec_guess[1]\n",
    "        c3 = nvec[2] * w + (1 + r) * bvec_guess[1]\n",
    "        \n",
    "        return (np.array([c1 <= 0 or c2 <= 0, c2 <= 0]), \n",
    "            np.array([c1 <= 0, c2 <= 0, c3 <= 0]), \n",
    "            np.array([K <= 0]))"
   ]
  },
  {
   "cell_type": "markdown",
   "metadata": {},
   "source": [
    "## 2.1 (a)"
   ]
  },
  {
   "cell_type": "code",
   "execution_count": 73,
   "metadata": {},
   "outputs": [
    {
     "name": "stdout",
     "output_type": "stream",
     "text": [
      "b_cnstr: [ True False];\n",
      "c_cnstr: [ True False False];\n",
      "K_cnstr: [False].\n"
     ]
    }
   ],
   "source": [
    "b_cnstr, c_cnstr, K_cnstr = feasible(f_params, np.array([1.0, 1.2]))\n",
    "print('b_cnstr: {};\\nc_cnstr: {};\\nK_cnstr: {}.'.format(b_cnstr, c_cnstr, K_cnstr))"
   ]
  },
  {
   "cell_type": "markdown",
   "metadata": {},
   "source": [
    "It turns out that the consumption nonnegativity constraint for period 1 is violated."
   ]
  },
  {
   "cell_type": "markdown",
   "metadata": {},
   "source": [
    "## 2.1 (b)"
   ]
  },
  {
   "cell_type": "code",
   "execution_count": 74,
   "metadata": {},
   "outputs": [
    {
     "name": "stdout",
     "output_type": "stream",
     "text": [
      "b_cnstr: [False False];\n",
      "c_cnstr: [False False False];\n",
      "K_cnstr: [False].\n"
     ]
    }
   ],
   "source": [
    "b_cnstr, c_cnstr, K_cnstr = feasible(f_params, np.array([0.06, -0.001]))\n",
    "print('b_cnstr: {};\\nc_cnstr: {};\\nK_cnstr: {}.'.format(b_cnstr, c_cnstr, K_cnstr))"
   ]
  },
  {
   "cell_type": "markdown",
   "metadata": {},
   "source": [
    "It turns out that all of the constraints are satisfied."
   ]
  },
  {
   "cell_type": "markdown",
   "metadata": {},
   "source": [
    "## 2.1 (c)"
   ]
  },
  {
   "cell_type": "code",
   "execution_count": 75,
   "metadata": {},
   "outputs": [
    {
     "name": "stdout",
     "output_type": "stream",
     "text": [
      "b_cnstr: [False False];\n",
      "c_cnstr: [False False False];\n",
      "K_cnstr: [False].\n"
     ]
    }
   ],
   "source": [
    "\n",
    "b_cnstr, c_cnstr, K_cnstr = feasible(f_params, np.array([0.1, 0.1]))\n",
    "print('b_cnstr: {};\\nc_cnstr: {};\\nK_cnstr: {}.'.format(b_cnstr, c_cnstr, K_cnstr))"
   ]
  },
  {
   "cell_type": "markdown",
   "metadata": {},
   "source": [
    "It turns out that all of the constraints are satisfied."
   ]
  },
  {
   "cell_type": "markdown",
   "metadata": {},
   "source": [
    "## Exercise 2.2\n"
   ]
  },
  {
   "cell_type": "code",
   "execution_count": 78,
   "metadata": {},
   "outputs": [],
   "source": [
    "# define 2 functions as required\n",
    "\n",
    "def EulEq(bvec, args):\n",
    "    beta, sigma, nvec, L, A, alpha, delta, SS_tol = args\n",
    "    K = get_K(bvec)\n",
    "    L = get_L(nvec)\n",
    "    w = get_w(K, L, alpha, A)\n",
    "    r = get_r(K, L, alpha, delta, A)\n",
    "    c1 = nvec[0] * w - bvec[0]\n",
    "    c2 = nvec[1] * w + (1 + r) * bvec[0] - bvec[1]\n",
    "    c3 = nvec[2] * w + (1 + r) * bvec[1]\n",
    "    Eul1 = (c1 ** (-sigma)) - beta * (1 + r) * (c2 ** (-sigma)) \n",
    "    Eul2 = (c2 ** (-sigma)) - beta * (1 + r) * (c3 ** (-sigma))\n",
    "\n",
    "    return np.array([Eul1, Eul2])\n",
    "\n",
    "\n",
    "def get_SS(params, bvec_guess, SS_graphs):\n",
    "    start_time = time.clock() \n",
    "    beta, sigma, nvec, L, A, alpha, delta, SS_tol = params\n",
    "    b_ss = opt.root(EulEq, bvec_guess, args = np.array(params)).x\n",
    "    K_ss = get_K(b_ss)\n",
    "    #L_ss = get_L(nvec)\n",
    "    w_ss = get_w(K_ss, L, alpha, A)\n",
    "    #A * (1 - alpha) * ((K_ss / L) ** alpha)\n",
    "    r_ss = get_r(K_ss, L, alpha, delta, A)\n",
    "    #A * alpha * ((L / K_ss) ** (1 - alpha)) - delta\n",
    "    Y_ss = get_Y(K_ss, L, alpha, A)\n",
    "    #A * (K_ss ** alpha) * (L ** (1 - alpha))\n",
    "    b2, b3 = b_ss\n",
    "    c1 = nvec[0] * w_ss - b_ss[0]\n",
    "    c2 = nvec[1] * w_ss + (1 + r_ss) * b_ss[0] - b_ss[1]\n",
    "    c3 = nvec[2] * w_ss + (1 + r_ss) * b_ss[1]\n",
    "    \n",
    "    c_ss = np.array([c1, c2, c3])\n",
    "    C_ss = np.sum(c_ss)\n",
    "    Eul1 = (c_ss[0] ** (-sigma)) - beta * (1 + r_ss) * (c_ss[1] ** (-sigma)) \n",
    "    Eul2 = (c_ss[1] ** (-sigma)) - beta * (1 + r_ss) * (c_ss[2] ** (-sigma))\n",
    "    \n",
    "    EulErr_ss = np.array([Eul1, Eul2])\n",
    "    RCerr_ss = Y_ss - C_ss - delta * K_ss\n",
    "    ss_time = time.clock() - start_time \n",
    "    ss_output = {'b_ss': b_ss, 'c_ss': c_ss, 'w_ss': w_ss, 'r_ss': r_ss,\n",
    "                 'K_ss': K_ss, 'Y_ss': Y_ss, 'C_ss': C_ss,\n",
    "                 'EulErr_ss': EulErr_ss, 'RCerr_ss': RCerr_ss,\n",
    "                 'ss_time': ss_time}\n",
    "    \n",
    "    if SS_graphs:\n",
    "        plt.plot(np.arange(1,4), c_ss, marker='o',label='consumptions')\n",
    "        plt.plot(np.arange(2,4), b_ss, marker='o',label='savings')\n",
    "        plt.xlabel('Agent Age')\n",
    "        plt.ylabel('Agent Comsumption, Savings')\n",
    "        plt.title('Steady-state Distribution of Consumptions and Savings by Age')\n",
    "        plt.legend()\n",
    "        plt.show()\n",
    "    \n",
    "    return ss_output"
   ]
  },
  {
   "cell_type": "code",
   "execution_count": 79,
   "metadata": {},
   "outputs": [
    {
     "name": "stderr",
     "output_type": "stream",
     "text": [
      "/Users/luyongfei/Applications/anaconda3/lib/python3.7/site-packages/ipykernel_launcher.py:19: DeprecationWarning: time.clock has been deprecated in Python 3.3 and will be removed from Python 3.8: use time.perf_counter or time.process_time instead\n",
      "/Users/luyongfei/Applications/anaconda3/lib/python3.7/site-packages/ipykernel_launcher.py:42: DeprecationWarning: time.clock has been deprecated in Python 3.3 and will be removed from Python 3.8: use time.perf_counter or time.process_time instead\n"
     ]
    },
    {
     "data": {
      "text/plain": [
       "{'b_ss': array([0.01931253, 0.0584111 ]),\n",
       " 'c_ss': array([0.18241213, 0.20961468, 0.24087387]),\n",
       " 'w_ss': 0.20172465739052575,\n",
       " 'r_ss': 2.433062339127069,\n",
       " 'K_ss': 0.07772362575316386,\n",
       " 'Y_ss': 0.6827603788602411,\n",
       " 'C_ss': 0.6329006729395864,\n",
       " 'EulErr_ss': array([-1.39266376e-12,  2.62900812e-12]),\n",
       " 'RCerr_ss': 8.326672684688674e-17,\n",
       " 'ss_time': 0.0006370000000011089}"
      ]
     },
     "execution_count": 79,
     "metadata": {},
     "output_type": "execute_result"
    }
   ],
   "source": [
    "# (a)\n",
    "SS_tol = 1e-10\n",
    "params = (beta, sigma, nvec, np.sum(nvec), A, alpha, delta, SS_tol)\n",
    "ss_output = get_SS(params, np.array([0.1, 0.1]), False)\n",
    "ss_output"
   ]
  },
  {
   "cell_type": "code",
   "execution_count": 80,
   "metadata": {},
   "outputs": [
    {
     "name": "stderr",
     "output_type": "stream",
     "text": [
      "/Users/luyongfei/Applications/anaconda3/lib/python3.7/site-packages/ipykernel_launcher.py:19: DeprecationWarning: time.clock has been deprecated in Python 3.3 and will be removed from Python 3.8: use time.perf_counter or time.process_time instead\n",
      "/Users/luyongfei/Applications/anaconda3/lib/python3.7/site-packages/ipykernel_launcher.py:42: DeprecationWarning: time.clock has been deprecated in Python 3.3 and will be removed from Python 3.8: use time.perf_counter or time.process_time instead\n"
     ]
    },
    {
     "data": {
      "image/png": "[encoded data removed]",
      "text/plain": [
       "<Figure size 432x288 with 1 Axes>"
      ]
     },
     "metadata": {
      "needs_background": "light"
     },
     "output_type": "display_data"
    },
    {
     "data": {
      "text/plain": [
       "{'b_ss': array([0.01931253, 0.0584111 ]),\n",
       " 'c_ss': array([0.18241213, 0.20961468, 0.24087387]),\n",
       " 'w_ss': 0.20172465739052575,\n",
       " 'r_ss': 2.433062339127069,\n",
       " 'K_ss': 0.07772362575316386,\n",
       " 'Y_ss': 0.6827603788602411,\n",
       " 'C_ss': 0.6329006729395864,\n",
       " 'EulErr_ss': array([-1.39266376e-12,  2.62900812e-12]),\n",
       " 'RCerr_ss': 8.326672684688674e-17,\n",
       " 'ss_time': 0.001154999999998907}"
      ]
     },
     "execution_count": 80,
     "metadata": {},
     "output_type": "execute_result"
    }
   ],
   "source": [
    "# (b)\n",
    "get_SS(params, np.array([0.1, 0.1]), True)"
   ]
  },
  {
   "cell_type": "code",
   "execution_count": 81,
   "metadata": {},
   "outputs": [
    {
     "name": "stderr",
     "output_type": "stream",
     "text": [
      "/Users/luyongfei/Applications/anaconda3/lib/python3.7/site-packages/ipykernel_launcher.py:19: DeprecationWarning: time.clock has been deprecated in Python 3.3 and will be removed from Python 3.8: use time.perf_counter or time.process_time instead\n",
      "/Users/luyongfei/Applications/anaconda3/lib/python3.7/site-packages/ipykernel_launcher.py:42: DeprecationWarning: time.clock has been deprecated in Python 3.3 and will be removed from Python 3.8: use time.perf_counter or time.process_time instead\n"
     ]
    },
    {
     "data": {
      "image/png": "[encoded data removed]",
      "text/plain": [
       "<Figure size 432x288 with 1 Axes>"
      ]
     },
     "metadata": {
      "needs_background": "light"
     },
     "output_type": "display_data"
    },
    {
     "data": {
      "text/plain": [
       "{'b_ss': array([0.02817692, 0.07686545]),\n",
       " 'c_ss': array([0.19597528, 0.22861594, 0.26669307]),\n",
       " 'w_ss': 0.22415219593446706,\n",
       " 'r_ss': 1.8863765057189819,\n",
       " 'K_ss': 0.1050423702259807,\n",
       " 'Y_ss': 0.7586689708551193,\n",
       " 'C_ss': 0.6912842903551526,\n",
       " 'EulErr_ss': array([6.87805368e-12, 2.52953214e-12]),\n",
       " 'RCerr_ss': 9.71445146547012e-17,\n",
       " 'ss_time': 0.0005569999999988084}"
      ]
     },
     "execution_count": 81,
     "metadata": {},
     "output_type": "execute_result"
    }
   ],
   "source": [
    "# (c)\n",
    "params_c = (0.55, sigma, nvec, np.sum(nvec), A, alpha, delta, SS_tol)\n",
    "ss_output2 = get_SS(params_c, np.array([0.1, 0.1]), True)\n",
    "ss_output2"
   ]
  },
  {
   "cell_type": "markdown",
   "metadata": {},
   "source": [
    "When $\\beta$ increases, all households become more patient, then the steady-state values of wage, consumptions and savings will all increase, except that the interest rate will decrease. \n",
    "\n",
    "The intuition is that higher $\\beta$ will cause the comsumers to value future more than the present, which leads to more savings. Higher savings will decrease interest rate and increase firm capitals, which will then increase marginal productivity of labor and wages. This will eventually stimulate consumption."
   ]
  },
  {
   "cell_type": "markdown",
   "metadata": {},
   "source": [
    "## Exercise 2.3"
   ]
  },
  {
   "cell_type": "code",
   "execution_count": 82,
   "metadata": {},
   "outputs": [],
   "source": [
    "# define auxiliary functions\n",
    "get_cons = lambda b_s, b_s_1, n_s, r, w: w * n_s + (1 + r) * b_s - b_s_1\n",
    "get_util = lambda c, sigma=3: (c ** (1-sigma))/(1-sigma)\n",
    "get_MU = lambda c, sigma=3: c ** (-sigma)\n"
   ]
  },
  {
   "cell_type": "code",
   "execution_count": 83,
   "metadata": {},
   "outputs": [],
   "source": [
    "# define the required functions\n",
    "def timepath(K_path_update, K_init, K_ss, T, A, alpha, delta, nvec, m, Type):\n",
    "    path = np.zeros([T + m, 4])\n",
    "    period_path  = np.arange(1, T + m +1)\n",
    "    if Type == \"linear\":\n",
    "        K_path = np.linspace(K_init, K_ss, num = T)\n",
    "    if Type == \"update\":\n",
    "        K_path = K_path_update\n",
    "    path[: , 0] = period_path\n",
    "    path[: -m, 1] = K_path\n",
    "    path[-m: , 1] = K_ss\n",
    "    path[: , 2] = get_w(path[: , 1], nvec.sum(), alpha, A)\n",
    "    path[: , 3] = get_r(path[: , 1], nvec.sum(), alpha, delta, A)\n",
    "    return path\n",
    "\n",
    "def solve_path(path, *args):\n",
    "    bvec_init_val, T, m, beta, alpha, delta, sigma, A, nvec, bvec_ss = args\n",
    "    b_mat = np.zeros([T + m, 3])\n",
    "    b_mat[0, 0:-1] = bvec_init_val\n",
    "    def get_b32(b32, *args):\n",
    "        r2, r3, b21, w2, w3, beta, sigma, nvec = args\n",
    "        c2  = get_cons(b21, b32, nvec[1], r2, w2)\n",
    "        c3  = get_cons(b32, 0, nvec[2], r3, w3)\n",
    "        MU2 = get_MU(c2)\n",
    "        MU3 = get_MU(c3)\n",
    "        error =  MU2 - beta * (1 + r3) * MU3\n",
    "        return error\n",
    "    b32_init = 0.1\n",
    "    b32_args  = (path[0 , 3], path[1 , 3], b_mat[0 , 0], path[0 , 2], path[1 , 2], beta, sigma, nvec)\n",
    "    b32 = opt.root(get_b32, b32_init, args = (b32_args))\n",
    "    b32 = b32.x\n",
    "    b_mat[1 , 1] = b32\n",
    "    for i in range(path.shape[0]-2):\n",
    "        w1 = path[i - 1 , 2]\n",
    "        w2 = path[i , 2]\n",
    "        w3 = path[i + 1 , 2]\n",
    "        r2 = path[i , 3]\n",
    "        r3 = path[i + 1, 3]\n",
    "        ts_args = (w1, w2, w3, r2, r3, beta, alpha, delta, sigma, A, nvec)\n",
    "        bvec_ts = opt.root(EulErr, bvec_init, args = (ts_args))\n",
    "        b_mat[i , 0] = bvec_ts.x[0]\n",
    "        b_mat[i + 1, 1] = bvec_ts.x[1]\n",
    "    b_mat[: , 2] = b_mat[: , 0] + b_mat[: , 1]\n",
    "    return b_mat\n",
    "\n",
    "def EulErr(bvec, *args):\n",
    "    w1, w2, w3, r2, r3, beta, alpha, delta, sigma, A, nvec = args\n",
    "    b2, b3 = bvec\n",
    "    L = nvec.sum()\n",
    "    K = get_K(bvec)\n",
    "    c1 = get_cons(0, b2, nvec[0], r2, w1)\n",
    "    c2 = get_cons(b2, b3, nvec[1], r2, w2)\n",
    "    c3 = get_cons(b3, 0, nvec[2], r3, w3)\n",
    "    MU1 = get_MU(c1)\n",
    "    MU2 = get_MU(c2)\n",
    "    MU3 = get_MU(c3)\n",
    "    Eul1 = MU1 - beta*(1+r2) * MU2\n",
    "    Eul2 = MU2 - beta*(1+r3) * MU3\n",
    "    Euler_errs = np.array([Eul1, Eul2])\n",
    "    return Euler_errs\n",
    "\n"
   ]
  },
  {
   "cell_type": "code",
   "execution_count": 84,
   "metadata": {},
   "outputs": [],
   "source": [
    "def TPI(path_init, xival, tol, *args):\n",
    "    bvec_init, T, m, beta, alpha, delta, sigma, A, nvec, bvec_ss, K_ss = args\n",
    "    b_mat = np.zeros([T + m, 3])\n",
    "    b_mat[0, 0:-1] = bvec_init\n",
    "    b_HH_init  = solve_path(path_init, bvec_init, T, m, beta, alpha, delta, sigma, A, nvec, bvec_ss)\n",
    "    diff_init = sum(((path_init[: -m, 1] - b_HH_init[: -m, 2])/path_init[: -m, 1])**2)\n",
    "    if diff_init > tol:\n",
    "        path = path_init\n",
    "        b_HH = b_HH_init\n",
    "        diff = diff_init\n",
    "        iter_num = 0\n",
    "        while diff > tol:\n",
    "            update = xival * b_HH[: -m, 2] + (1 - xival) * path[: -m, 1]\n",
    "            path = timepath(update, 0, K_ss, T, A, alpha, delta, nvec, m, \"update\")\n",
    "            b_HH = solve_path(path, bvec_init, T, m, beta, alpha, delta, sigma, A, nvec, bvec_ss)\n",
    "            diff = sum(((path[: -m, 1] - b_HH[: -m, 2])/path[: -m, 1])**2)\n",
    "            iter_num = iter_num + 1\n",
    "            print(\"iteration: \", iter_num, \"  difference: \", diff)\n",
    "\n",
    "        result = (path, b_HH)\n",
    "    else:\n",
    "        result =  (path_init, b_HH_init)\n",
    "    return result"
   ]
  },
  {
   "cell_type": "markdown",
   "metadata": {},
   "source": [
    "## 2.3 (a)"
   ]
  },
  {
   "cell_type": "code",
   "execution_count": 85,
   "metadata": {},
   "outputs": [
    {
     "name": "stderr",
     "output_type": "stream",
     "text": [
      "/Users/luyongfei/Applications/anaconda3/lib/python3.7/site-packages/ipykernel_launcher.py:19: DeprecationWarning: time.clock has been deprecated in Python 3.3 and will be removed from Python 3.8: use time.perf_counter or time.process_time instead\n",
      "/Users/luyongfei/Applications/anaconda3/lib/python3.7/site-packages/ipykernel_launcher.py:42: DeprecationWarning: time.clock has been deprecated in Python 3.3 and will be removed from Python 3.8: use time.perf_counter or time.process_time instead\n"
     ]
    }
   ],
   "source": [
    "\n",
    "# set the parameters\n",
    "xival = 0.1\n",
    "tol = 1e-9\n",
    "ss_output = get_SS(params, np.array([0.1, 0.1]), False)\n",
    "bvec_init = np.array([0.8 * ss_output['b_ss'][0], 1.1 * ss_output['b_ss'][1]])\n",
    "T = 30\n",
    "m = 25\n",
    "bvec_ss = ss_output['b_ss']\n",
    "K_ss = ss_output['K_ss']\n",
    "K_init = bvec_init.sum()\n",
    "\n",
    "path_init = timepath(0, K_init, K_ss, T, A, alpha, delta, nvec, m, \"linear\")"
   ]
  },
  {
   "cell_type": "code",
   "execution_count": 86,
   "metadata": {},
   "outputs": [
    {
     "name": "stdout",
     "output_type": "stream",
     "text": [
      "iteration:  1   difference:  0.0029786998830727746\n",
      "iteration:  2   difference:  0.0024123019609066415\n",
      "iteration:  3   difference:  0.001967493702330656\n",
      "iteration:  4   difference:  0.001615973544184616\n",
      "iteration:  5   difference:  0.0013363655473669321\n",
      "iteration:  6   difference:  0.0011124679958151322\n",
      "iteration:  7   difference:  0.0009319565014451312\n",
      "iteration:  8   difference:  0.0007854206680523601\n",
      "iteration:  9   difference:  0.0006656464722004509\n",
      "iteration:  10   difference:  0.000567080252523225\n",
      "iteration:  11   difference:  0.0004854273224365549\n",
      "iteration:  12   difference:  0.0004173506457818963\n",
      "iteration:  13   difference:  0.0003602440707093479\n",
      "iteration:  14   difference:  0.0003120612471535515\n",
      "iteration:  15   difference:  0.00027118622327650403\n",
      "iteration:  16   difference:  0.00023633530554070995\n",
      "iteration:  17   difference:  0.00020648241964873082\n",
      "iteration:  18   difference:  0.0001808021748516401\n",
      "iteration:  19   difference:  0.0001586262934732381\n",
      "iteration:  20   difference:  0.00013941015340676594\n",
      "iteration:  21   difference:  0.0001227070009234637\n",
      "iteration:  22   difference:  0.00010814799579031938\n",
      "iteration:  23   difference:  9.542670307486413e-05\n",
      "iteration:  24   difference:  8.428698502880578e-05\n",
      "iteration:  25   difference:  7.45135009108492e-05\n",
      "iteration:  26   difference:  6.592421392829863e-05\n",
      "iteration:  27   difference:  5.8364448551655677e-05\n",
      "iteration:  28   difference:  5.170215013626195e-05\n",
      "iteration:  29   difference:  4.582408090721027e-05\n",
      "iteration:  30   difference:  4.0632748531485134e-05\n",
      "iteration:  31   difference:  3.604391065401127e-05\n",
      "iteration:  32   difference:  3.1984534612175036e-05\n",
      "iteration:  33   difference:  2.8391118842179543e-05\n",
      "iteration:  34   difference:  2.5208303334551633e-05\n",
      "iteration:  35   difference:  2.2387712452875847e-05\n",
      "iteration:  36   difference:  1.9886985680142056e-05\n",
      "iteration:  37   difference:  1.7668961290365567e-05\n",
      "iteration:  38   difference:  1.5700985231894436e-05\n",
      "iteration:  39   difference:  1.3954323160740405e-05\n",
      "iteration:  40   difference:  1.240365796235619e-05\n",
      "iteration:  41   difference:  1.102665854020672e-05\n",
      "iteration:  42   difference:  9.803608351014045e-06\n",
      "iteration:  43   difference:  8.717084298424413e-06\n",
      "iteration:  44   difference:  7.751678287841644e-06\n",
      "iteration:  45   difference:  6.893755093615646e-06\n",
      "iteration:  46   difference:  6.131241271066854e-06\n",
      "iteration:  47   difference:  5.453440717921797e-06\n",
      "iteration:  48   difference:  4.850873197238253e-06\n",
      "iteration:  49   difference:  4.31513271124961e-06\n",
      "iteration:  50   difference:  3.838763089528249e-06\n",
      "iteration:  51   difference:  3.4151485462782654e-06\n",
      "iteration:  52   difference:  3.0384172866057114e-06\n",
      "iteration:  53   difference:  2.703356513123529e-06\n",
      "iteration:  54   difference:  2.4053374121735823e-06\n",
      "iteration:  55   difference:  2.140248891359334e-06\n",
      "iteration:  56   difference:  1.904439003228858e-06\n",
      "iteration:  57   difference:  1.6946631289155852e-06\n",
      "iteration:  58   difference:  1.5080381144640908e-06\n",
      "iteration:  59   difference:  1.342001654652946e-06\n",
      "iteration:  60   difference:  1.194276307115034e-06\n",
      "iteration:  61   difference:  1.0628375956496653e-06\n",
      "iteration:  62   difference:  9.45885727562938e-07\n",
      "iteration:  63   difference:  8.418205072634754e-07\n",
      "iteration:  64   difference:  7.49219078275195e-07\n",
      "iteration:  65   difference:  6.668161695396543e-07\n",
      "iteration:  66   difference:  5.934865600229762e-07\n",
      "iteration:  67   difference:  5.28229509169097e-07\n",
      "iteration:  68   difference:  4.701549301060613e-07\n",
      "iteration:  69   difference:  4.1847110836734253e-07\n",
      "iteration:  70   difference:  3.7247379161018696e-07\n",
      "iteration:  71   difference:  3.315364958771446e-07\n",
      "iteration:  72   difference:  2.9510189158374585e-07\n",
      "iteration:  73   difference:  2.626741480459907e-07\n",
      "iteration:  74   difference:  2.338121291071901e-07\n",
      "iteration:  75   difference:  2.0812334462864635e-07\n",
      "iteration:  76   difference:  1.8525857335628195e-07\n",
      "iteration:  77   difference:  1.6490708222819834e-07\n",
      "iteration:  78   difference:  1.4679237561586598e-07\n",
      "iteration:  79   difference:  1.3066841546737485e-07\n",
      "iteration:  80   difference:  1.163162599538141e-07\n",
      "iteration:  81   difference:  1.0354107408158417e-07\n",
      "iteration:  82   difference:  9.216947094868529e-08\n",
      "iteration:  83   difference:  8.204714693948293e-08\n",
      "iteration:  84   difference:  7.303677824389096e-08\n",
      "iteration:  85   difference:  6.501614973411405e-08\n",
      "iteration:  86   difference:  5.7876490448189034e-08\n",
      "iteration:  87   difference:  5.152099280580379e-08\n",
      "iteration:  88   difference:  4.586349521610082e-08\n",
      "iteration:  89   difference:  4.082731000489485e-08\n",
      "iteration:  90   difference:  3.634418059183115e-08\n",
      "iteration:  91   difference:  3.235335362981449e-08\n",
      "iteration:  92   difference:  2.8800753408453923e-08\n",
      "iteration:  93   difference:  2.563824722466225e-08\n",
      "iteration:  94   difference:  2.282299167931442e-08\n",
      "iteration:  95   difference:  2.031685096679114e-08\n",
      "iteration:  96   difference:  1.8085879217972228e-08\n",
      "iteration:  97   difference:  1.6099859827794963e-08\n",
      "iteration:  98   difference:  1.4331895488123333e-08\n",
      "iteration:  99   difference:  1.2758043333163851e-08\n",
      "iteration:  100   difference:  1.1356990229281817e-08\n",
      "iteration:  101   difference:  1.0109763783185068e-08\n",
      "iteration:  102   difference:  8.999475137077664e-09\n",
      "iteration:  103   difference:  8.011090047592586e-09\n",
      "iteration:  104   difference:  7.1312251364515096e-09\n",
      "iteration:  105   difference:  6.347966541160634e-09\n",
      "iteration:  106   difference:  5.65070850052476e-09\n",
      "iteration:  107   difference:  5.030009681467914e-09\n",
      "iteration:  108   difference:  4.477465295276745e-09\n",
      "iteration:  109   difference:  3.985593267019084e-09\n",
      "iteration:  110   difference:  3.5477329113931728e-09\n",
      "iteration:  111   difference:  3.157954740912067e-09\n",
      "iteration:  112   difference:  2.8109801817805684e-09\n",
      "iteration:  113   difference:  2.5021101085281024e-09\n",
      "iteration:  114   difference:  2.227161227946582e-09\n",
      "iteration:  115   difference:  1.982409449695054e-09\n",
      "iteration:  116   difference:  1.7645394758394974e-09\n",
      "iteration:  117   difference:  1.5705999259666237e-09\n",
      "iteration:  118   difference:  1.3979633895637567e-09\n",
      "iteration:  119   difference:  1.2442908644849284e-09\n",
      "iteration:  120   difference:  1.1075000998819551e-09\n",
      "iteration:  121   difference:  9.857374143406056e-10\n"
     ]
    }
   ],
   "source": [
    "path = TPI(path_init, xival, tol,  bvec_init, T, m, beta, alpha, delta, sigma, A, nvec, bvec_ss, K_ss)\n"
   ]
  },
  {
   "cell_type": "code",
   "execution_count": 87,
   "metadata": {},
   "outputs": [],
   "source": [
    "K_path = path[0][:, [0 , 1]]\n",
    "w_path = path[0][:, [0 , 2]]\n",
    "r_path = path[0][:, [0 , 3]]\n",
    "b_path = path[1][:,:2]\n",
    "\n",
    "Eulerr_path = np.zeros((30, 2))\n",
    "RCerr_path = np.zeros(30)\n",
    "for i in range(30):\n",
    "    if i == 0:\n",
    "        rt = rt1 = r_path[0,1]\n",
    "        wt = wt1 = w_path[0,1]\n",
    "        b2t = b2t1 = b_path[0, 0]\n",
    "        b3t = b3t1 = b_path[0, 1]\n",
    "    else:\n",
    "        rt, rt1 = r_path[i, 1], r_path[i-1, 1]\n",
    "        b2t, b3t = b_path[i,:]\n",
    "        b2t1, b3t1 = b_path[i-1, :]\n",
    "        wt, wt1 = w_path[i,1], w_path[i-1, 1]\n",
    "    Kt = K_path[i,1]\n",
    "    Kt_1 = K_path[i+1, 1]\n",
    "    Yt = get_Y(Kt, nvec.sum(), alpha, A)\n",
    "    c1t = get_cons(0, b2t, nvec[0], rt, wt)\n",
    "    c2t = get_cons(b2t1, b3t, nvec[1], rt1, wt)\n",
    "    c3t = get_cons(b3t1, 0, nvec[2], rt1, wt)\n",
    "    Ct = c1t + c2t + c3t\n",
    "    RCerr_path[i] = Yt - Ct - Kt_1 + (1 - delta) * Kt\n",
    "    Eulerr_path[i, :] = EulErr(b_path[i, :], w_path[i,1], w_path[i+1,1], \n",
    "                               w_path[i+2,1], r_path[i+1,1], r_path[i+2,1], \n",
    "                               beta, alpha, delta, sigma, A, nvec)"
   ]
  },
  {
   "cell_type": "code",
   "execution_count": 88,
   "metadata": {},
   "outputs": [
    {
     "name": "stdout",
     "output_type": "stream",
     "text": [
      "Maximum of the absolute values of all the Euler errors across the entire time path: 37.403922436717025\n",
      "Maximum of the absolute values of all the resource constraint errors across the entire time path: 0.00577342786005447\n"
     ]
    }
   ],
   "source": [
    "print('Maximum of the absolute values of all the Euler errors across the entire time path:', np.abs(Eulerr_path).max())\n",
    "print('Maximum of the absolute values of all the resource constraint errors across the entire time path:', np.abs(RCerr_path).max())\n"
   ]
  },
  {
   "cell_type": "markdown",
   "metadata": {},
   "source": [
    "## 2.3 (b)"
   ]
  },
  {
   "cell_type": "code",
   "execution_count": 89,
   "metadata": {},
   "outputs": [
    {
     "data": {
      "image/png": "[encoded data removed]",
      "text/plain": [
       "<Figure size 432x288 with 1 Axes>"
      ]
     },
     "metadata": {
      "needs_background": "light"
     },
     "output_type": "display_data"
    }
   ],
   "source": [
    "K_fig = plt.figure()\n",
    "plt.plot(K_path[: , 0], K_path[: , 1])\n",
    "plt.xlabel('period')\n",
    "plt.ylabel('aggregate capital stock')\n",
    "plt.title('Equilibrium time path of aggregate capital stock', fontsize=13, fontweight='bold')\n",
    "plt.show()"
   ]
  },
  {
   "cell_type": "code",
   "execution_count": 90,
   "metadata": {},
   "outputs": [
    {
     "data": {
      "image/png": "[encoded data removed]",
      "text/plain": [
       "<Figure size 432x288 with 1 Axes>"
      ]
     },
     "metadata": {
      "needs_background": "light"
     },
     "output_type": "display_data"
    }
   ],
   "source": [
    "w_fig = plt.figure()\n",
    "plt.plot(w_path[: , 0], w_path[: , 1])\n",
    "plt.xlabel('period')\n",
    "plt.ylabel('wage')\n",
    "plt.title('Time path of wage',fontsize=13, fontweight='bold')\n",
    "plt.show()"
   ]
  },
  {
   "cell_type": "code",
   "execution_count": 91,
   "metadata": {},
   "outputs": [
    {
     "data": {
      "image/png": "[encoded data removed]",
      "text/plain": [
       "<Figure size 432x288 with 1 Axes>"
      ]
     },
     "metadata": {
      "needs_background": "light"
     },
     "output_type": "display_data"
    }
   ],
   "source": [
    "r_fig = plt.figure()\n",
    "plt.plot(r_path[: , 0], r_path[: , 1])\n",
    "plt.xlabel('periods')\n",
    "plt.ylabel('interest rate')\n",
    "plt.title('Time path of interest rate $r$', fontsize=13, fontweight='bold')\n",
    "plt.show()"
   ]
  },
  {
   "cell_type": "markdown",
   "metadata": {},
   "source": [
    "## 2.3 (c)"
   ]
  },
  {
   "cell_type": "code",
   "execution_count": 92,
   "metadata": {},
   "outputs": [
    {
     "name": "stdout",
     "output_type": "stream",
     "text": [
      "It takes 12 periods to gei within 0.00001 of the steady-state aggregate capital stock.\n"
     ]
    }
   ],
   "source": [
    "for i in range(50):\n",
    "    K = K_path[i, 1]\n",
    "    if abs(K - K_ss) <= 1e-05:\n",
    "        print('It takes {} periods to gei within 0.00001 of the steady-state aggregate capital stock.'.format(int(K_path[i, 0])))\n",
    "        break"
   ]
  },
  {
   "cell_type": "code",
   "execution_count": 93,
   "metadata": {},
   "outputs": [
    {
     "name": "stdout",
     "output_type": "stream",
     "text": [
      " After period 12, the aggregate capital stock is never again farther than 0.00001 away from the steady-state.\n"
     ]
    }
   ],
   "source": [
    "for i in range(50):\n",
    "    K_mat = K_path[i:, 1]\n",
    "    Diff = np.abs(K_mat - K_ss)\n",
    "    if np.sum(Diff > 1e-05) == 0:\n",
    "        print(\" After period {}, the aggregate capital stock is never again farther than 0.00001 away from the steady-state.\".format(int(K_path[i, 0])))\n",
    "        break"
   ]
  },
  {
   "cell_type": "code",
   "execution_count": null,
   "metadata": {},
   "outputs": [],
   "source": []
  },
  {
   "cell_type": "code",
   "execution_count": null,
   "metadata": {},
   "outputs": [],
   "source": []
  },
  {
   "cell_type": "code",
   "execution_count": null,
   "metadata": {},
   "outputs": [],
   "source": []
  },
  {
   "cell_type": "code",
   "execution_count": null,
   "metadata": {},
   "outputs": [],
   "source": []
  },
  {
   "cell_type": "code",
   "execution_count": null,
   "metadata": {},
   "outputs": [],
   "source": []
  },
  {
   "cell_type": "code",
   "execution_count": null,
   "metadata": {},
   "outputs": [],
   "source": []
  },
  {
   "cell_type": "code",
   "execution_count": null,
   "metadata": {},
   "outputs": [],
   "source": []
  },
  {
   "cell_type": "code",
   "execution_count": null,
   "metadata": {},
   "outputs": [],
   "source": []
  },
  {
   "cell_type": "code",
   "execution_count": null,
   "metadata": {},
   "outputs": [],
   "source": []
  },
  {
   "cell_type": "code",
   "execution_count": null,
   "metadata": {},
   "outputs": [],
   "source": []
  },
  {
   "cell_type": "code",
   "execution_count": null,
   "metadata": {},
   "outputs": [],
   "source": []
  },
  {
   "cell_type": "code",
   "execution_count": null,
   "metadata": {},
   "outputs": [],
   "source": []
  }
 ],
 "metadata": {
  "kernelspec": {
   "display_name": "Python 3",
   "language": "python",
   "name": "python3"
  },
  "language_info": {
   "codemirror_mode": {
    "name": "ipython",
    "version": 3
   },
   "file_extension": ".py",
   "mimetype": "text/x-python",
   "name": "python",
   "nbconvert_exporter": "python",
   "pygments_lexer": "ipython3",
   "version": "3.7.6"
  }
 },
 "nbformat": 4,
 "nbformat_minor": 4
}
